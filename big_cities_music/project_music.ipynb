{
  "metadata": {
    "language_info": {
      "codemirror_mode": {
        "name": "python",
        "version": 3
      },
      "file_extension": ".py",
      "mimetype": "text/x-python",
      "name": "python",
      "nbconvert_exporter": "python",
      "pygments_lexer": "ipython3",
      "version": "3.8"
    },
    "kernelspec": {
      "name": "python",
      "display_name": "Python (Pyodide)",
      "language": "python"
    }
  },
  "nbformat_minor": 4,
  "nbformat": 4,
  "cells": [
    {
      "cell_type": "markdown",
      "source": "Этап 1. Получение данных\nИзучим данные, предоставленные сервисом для проекта.",
      "metadata": {}
    },
    {
      "cell_type": "markdown",
      "source": "Импорт библиотек",
      "metadata": {}
    },
    {
      "cell_type": "code",
      "source": "import pandas as pd",
      "metadata": {},
      "execution_count": null,
      "outputs": []
    },
    {
      "cell_type": "markdown",
      "source": "Прочитаем файл music_project.csv и сохраним его в переменной df.",
      "metadata": {}
    },
    {
      "cell_type": "code",
      "source": "df = pd.read_csv(music_project.csv')",
      "metadata": {},
      "execution_count": null,
      "outputs": []
    },
    {
      "cell_type": "markdown",
      "source": "Получение первых 10 строк таблицы.",
      "metadata": {}
    },
    {
      "cell_type": "code",
      "source": "df.head(10)",
      "metadata": {},
      "execution_count": null,
      "outputs": []
    },
    {
      "cell_type": "markdown",
      "source": "Общая информация о данных таблицы df.",
      "metadata": {}
    },
    {
      "cell_type": "code",
      "source": "df.info()",
      "metadata": {},
      "execution_count": null,
      "outputs": []
    },
    {
      "cell_type": "markdown",
      "source": "Рассмотрим полученную информацию подробнее.\n\nВсего в таблице 7 столбцов, тип данных у каждого столбца - object.\n\nПодробно разберём, какие в df столбцы и какую информацию они содержат:\n\nuserID — идентификатор пользователя;\nTrack — название трека;\nartist — имя исполнителя;\ngenre — название жанра;\nCity — город, в котором происходило прослушивание;\ntime — время, в которое пользователь слушал трек;\nDay — день недели.\nКоличество значений в столбцах различается. Это говорит о том, что в данных есть пропущенные значения.\n\nВыводы\n\nКаждая строка таблицы содержит информацию о композициях определённого жанра в определённом исполнении, которые пользователи слушали в одном из городов в определённое время и день недели. Две проблемы, которые нужно решать: пропуски и некачественные названия столбцов. Для проверки рабочих гипотез особенно ценны столбцы time, day и City. Данные из столбца genre позволят узнать самые популярные жанры.",
      "metadata": {}
    },
    {
      "cell_type": "markdown",
      "source": "Этап 2. Предобработка данных\nИсключим пропуски, переименуем столбцы, а также проверим данные на наличие дубликатов.",
      "metadata": {}
    },
    {
      "cell_type": "code",
      "source": "df.columns",
      "metadata": {},
      "execution_count": null,
      "outputs": []
    },
    {
      "cell_type": "markdown",
      "source": "В названиях столбцов есть пробелы, которые могут затруднять доступ к данным.\n\nПереименуем столбцы для удобства дальнейшей работы. Проверим результат.",
      "metadata": {}
    },
    {
      "cell_type": "code",
      "source": "df = df.rename(\n    columns={\n        '  userID': 'user_id',\n        'Track': 'track',\n        '  City  ': 'city',\n        'Day': 'day'\n    }\n)",
      "metadata": {},
      "execution_count": null,
      "outputs": []
    },
    {
      "cell_type": "code",
      "source": "df.columns",
      "metadata": {},
      "execution_count": null,
      "outputs": []
    },
    {
      "cell_type": "markdown",
      "source": "Проверим данные на наличие пропусков вызовом набора методов для суммирования пропущенных значений.",
      "metadata": {}
    },
    {
      "cell_type": "code",
      "source": "df.isna().sum()",
      "metadata": {},
      "execution_count": null,
      "outputs": []
    },
    {
      "cell_type": "markdown",
      "source": "Пустые значения свидетельствуют, что для некоторых треков доступна не вся информация. Причины могут быть разные: скажем, не назван конкретный исполнитель народной песни. Хуже, если проблемы с записью данных. Каждый отдельный случай необходимо разобрать и выявить причину.\n\nЗаменяем пропущенные значения в столбцах с названием трека, исполнителя и жанра на строку 'unknown'. После этой операции нужно убедиться, что таблица больше не содержит пропусков.",
      "metadata": {}
    },
    {
      "cell_type": "code",
      "source": "columns_to_replace = ['track', 'artist', 'genre']\nfor item in columns_to_replace:\n    df[item] = df[item].fillna('unknown')",
      "metadata": {},
      "execution_count": null,
      "outputs": []
    },
    {
      "cell_type": "code",
      "source": "df.isna().sum()",
      "metadata": {},
      "execution_count": null,
      "outputs": []
    },
    {
      "cell_type": "markdown",
      "source": "Необходимо установить наличие дубликатов. Если найдутся, удаляем, и проверяем, все ли удалились.",
      "metadata": {}
    },
    {
      "cell_type": "code",
      "source": "df.duplicated().sum()",
      "metadata": {},
      "execution_count": null,
      "outputs": []
    },
    {
      "cell_type": "code",
      "source": "df = df.drop_duplicates()",
      "metadata": {},
      "execution_count": null,
      "outputs": []
    },
    {
      "cell_type": "code",
      "source": "df.duplicated().sum()",
      "metadata": {},
      "execution_count": null,
      "outputs": []
    },
    {
      "cell_type": "markdown",
      "source": "Теперь избавляемся от неявных дубликатов в колонке genre. Например, название одного и того же жанра может быть записано немного по-разному. Такие ошибки тоже повлияют на результат исследования.\n\nСоблюдая алфавитный порядок, сохраняем список уникальных значений столбца с жанрами в переменной unique_genres.",
      "metadata": {}
    },
    {
      "cell_type": "code",
      "source": "unique_genres = df['genre'].sort_values()\nunique_genres = unique_genres.unique()\nunique_genres",
      "metadata": {},
      "execution_count": null,
      "outputs": []
    },
    {
      "cell_type": "markdown",
      "source": "Просматриваем список и находим неявные дубликаты названия hiphop:\n\nhip,\nhop,\nhip-hop.\n\nЧтобы очистить от них таблицу используйте метод replace().",
      "metadata": {}
    },
    {
      "cell_type": "code",
      "source": "df = df.replace('hip', 'hiphop')\ndf = df.replace('hop', 'hiphop')\ndf = df.replace('hip-hop', 'hiphop')",
      "metadata": {},
      "execution_count": null,
      "outputs": []
    },
    {
      "cell_type": "markdown",
      "source": "Проверьте, что заменили неправильные названия:",
      "metadata": {}
    },
    {
      "cell_type": "code",
      "source": "unique_genres = df['genre'].sort_values()\nunique_genres = unique_genres.unique()\nunique_genres",
      "metadata": {},
      "execution_count": null,
      "outputs": []
    },
    {
      "cell_type": "markdown",
      "source": "Вывод\n\nНа этапе предобработки в данных обнаружились не только пропуски и проблемы с названиями столбцов, но и всяческие виды дубликатов. Их удаление позволит провести анализ точнее. Поскольку сведения о жанрах важно сохранить для анализа, не просто удаляем все пропущенные значения, а заполним пропущенные имена исполнителей и названия треков (хоть эти пропуски и могут повлиять на результаты исследования). Имена столбцов теперь корректны и удобны для дальнейшей работы.",
      "metadata": {}
    },
    {
      "cell_type": "code",
      "source": "Этап 3. Проверка гипотез",
      "metadata": {},
      "execution_count": null,
      "outputs": []
    },
    {
      "cell_type": "markdown",
      "source": "Действительно ли музыку в разных городах слушают по-разному?\nБыла выдвинута гипотеза, что в Москве и Санкт-Петербурге пользователи слушают музыку по-разному. Проверяем это предположение по данным о трёх днях недели — понедельнике, среде и пятнице.\n\nДля каждого города устанавливаем количество прослушанных в эти дни композиций с известным жанром, и сравниваем результаты.\n\nГруппируем данные по городу и вызовом метода count() подсчитываем композиции, для которых известен жанр.",
      "metadata": {}
    },
    {
      "cell_type": "code",
      "source": "df.groupby('city')['city'].count()",
      "metadata": {},
      "execution_count": null,
      "outputs": []
    },
    {
      "cell_type": "markdown",
      "source": "В Москве прослушиваний больше, чем в Питере, но это не значит, что Москва более активна. У Яндекс.Музыки в целом больше пользователей в Москве, поэтому величины сопоставимы.\n\nСгруппируем данные по дню недели и подсчитаем прослушанные в понедельник, среду и пятницу композиции, для которых известен жанр.",
      "metadata": {}
    },
    {
      "cell_type": "code",
      "source": "df.groupby('day')['day'].count()",
      "metadata": {},
      "execution_count": null,
      "outputs": []
    },
    {
      "cell_type": "markdown",
      "source": "В среднем пользователи из двух городов менее активны по средам. Но картина может измениться, если рассмотреть каждый город в отдельности.",
      "metadata": {}
    },
    {
      "cell_type": "markdown",
      "source": "Создаём функцию number_tracks(), которая принимает как параметры таблицу, день недели и название города, а возвращает количество прослушанных композиций, для которых известен жанр. Проверяем количество прослушанных композиций для каждого города и понедельника, затем среды и пятницы.",
      "metadata": {}
    },
    {
      "cell_type": "code",
      "source": "def number_tracks(day, city):\n    track_list = df[df['day'] == day]\n    track_list = track_list[track_list['city'] == city]\n    track_list_count = track_list['user_id'].count()\n    return track_list_count",
      "metadata": {},
      "execution_count": null,
      "outputs": []
    },
    {
      "cell_type": "code",
      "source": "number_tracks('Monday', 'Moscow')",
      "metadata": {},
      "execution_count": null,
      "outputs": []
    },
    {
      "cell_type": "code",
      "source": "number_tracks('Monday', 'Saint-Petersburg')",
      "metadata": {},
      "execution_count": null,
      "outputs": []
    },
    {
      "cell_type": "code",
      "source": "number_tracks('Wednesday', 'Moscow')",
      "metadata": {},
      "execution_count": null,
      "outputs": []
    },
    {
      "cell_type": "code",
      "source": "number_tracks('Wednesday', 'Saint-Petersburg')",
      "metadata": {},
      "execution_count": null,
      "outputs": []
    },
    {
      "cell_type": "code",
      "source": "number_tracks('Friday', 'Moscow')",
      "metadata": {},
      "execution_count": null,
      "outputs": []
    },
    {
      "cell_type": "code",
      "source": "number_tracks('Friday', 'Saint-Petersburg')",
      "metadata": {},
      "execution_count": null,
      "outputs": []
    },
    {
      "cell_type": "markdown",
      "source": "Сведём полученную информацию в одну таблицу, где ['city', 'monday', 'wednesday', 'friday'] названия столбцов.",
      "metadata": {}
    },
    {
      "cell_type": "code",
      "source": "info = pd.DataFrame(data= [['Moscow', 15740, 11056, 15945], ['Saint-Petersburg', 5614, 7003, 5895]] , columns=['city', 'monday', 'wednesday', 'friday'])\ninfo",
      "metadata": {},
      "execution_count": null,
      "outputs": []
    },
    {
      "cell_type": "markdown",
      "source": "Вывод\n\nРезультаты показывают, что относительно среды музыку в Петербурге и Москве слушают «зеркально»: в Москве пики приходятся на понедельник и пятницу, а в среду время прослушивания снижается. Тогда как в Санкт-Петербурге среда — день самого большого интереса к музыке, а в понедельник и пятницу он меньше, причём почти одинаково меньше.",
      "metadata": {}
    },
    {
      "cell_type": "markdown",
      "source": "Утро понедельника и вечер пятницы — разная музыка или одна и та же?\nИщем ответ на вопрос, какие жанры преобладают в разных городах в понедельник утром и в пятницу вечером. Есть предположение, что в понедельник утром пользователи слушают больше бодрящей музыки (например, жанра поп), а вечером пятницы — больше танцевальных (например, электронику).\n\nПолучим таблицы данных по Москве moscow_general и по Санкт-Петербургу spb_general.",
      "metadata": {}
    },
    {
      "cell_type": "code",
      "source": "moscow_general = df[df['city'] == 'Moscow']",
      "metadata": {},
      "execution_count": null,
      "outputs": []
    },
    {
      "cell_type": "code",
      "source": "spb_general = df[df['city'] == 'Saint-Petersburg']",
      "metadata": {},
      "execution_count": null,
      "outputs": []
    },
    {
      "cell_type": "markdown",
      "source": "Создаём функцию genre_weekday(), которая возвращает список жанров по запрошенному дню недели и времени суток с такого-то часа по такой-то.",
      "metadata": {}
    },
    {
      "cell_type": "code",
      "source": "def genre_weekday(df, day, time1, time2):\n    # последовательная фильтрация\n    # оставляем в genre_df только те строки df, у которых день равен day\n    genre_df = df[df['day'] == day]\n    # оставляем в genre_df только те строки genre_df, у которых время меньше time2\n    genre_df = genre_df[genre_df['time'] < time2]\n    # оставляем в genre_df только те строки genre_df, у которых время больше time1\n    genre_df = genre_df[genre_df['time'] > time1]\n    # сгруппируем отфильтрованный датафрейм по столбцу с названиями жанров, возьмём столбец genre и посчитаем кол-во строк для каждого жанра методом count()\n    genre_df_grouped = genre_df.groupby('genre')['genre'].count()\n    # отсортируем результат по убыванию (чтобы в начале Series оказались самые популярные жанры)\n    genre_df_sorted = genre_df_grouped.sort_values(ascending=False)\n    # вернём Series с 10 самыми популярными жанрами в указанный отрезок времени заданного дня\n    return genre_df_sorted[:10]\n    ",
      "metadata": {},
      "execution_count": null,
      "outputs": []
    },
    {
      "cell_type": "markdown",
      "source": "Cравниваем полученные результаты по таблице для Москвы и Санкт-Петербурга в понедельник утром (с 7 до 11) и в пятницу вечером (с 17 до 23).",
      "metadata": {}
    },
    {
      "cell_type": "code",
      "source": "genre_weekday(moscow_general, 'Monday', '07:00', '11:00')",
      "metadata": {},
      "execution_count": null,
      "outputs": []
    },
    {
      "cell_type": "code",
      "source": "genre_weekday(spb_general, 'Monday', '07:00', '11:00')",
      "metadata": {},
      "execution_count": null,
      "outputs": []
    },
    {
      "cell_type": "code",
      "source": "genre_weekday(moscow_general, 'Friday', '17:00', '23:00')",
      "metadata": {},
      "execution_count": null,
      "outputs": []
    },
    {
      "cell_type": "code",
      "source": "genre_weekday(spb_general, 'Friday', '17:00', '23:00')",
      "metadata": {},
      "execution_count": null,
      "outputs": []
    },
    {
      "cell_type": "markdown",
      "source": "Популярные жанры в понедельник утром в Питере и Москве оказались похожи: везде, как и предполагалось, популярен поп. Несмотря на это, концовка топ-10 для двух городов различается: в Питере в топ-10 входит джаз и русский рэп, а в Москве жанр world.\n\nВ Москве пропущенных значений оказалось так много, что значение 'unknown' заняло десятое место среди самых популярных жанров. Значит, пропущенные значения занимают существенную долю в данных и угрожают достоверности исследования.\n\nВ конце недели ситуация не меняется. Поп-музыка всё так же на первом месте. Опять разница заметна только в концовке топ-10, где в Питере пятничным вечером тоже присутствует жанр world.",
      "metadata": {}
    },
    {
      "cell_type": "markdown",
      "source": "Вывод\n\nЖанр поп безусловный лидер, а топ-5 в целом не различается в обеих столицах. При этом видно, что концовка списка более «живая»: \nдля каждого города выделяются более характерные жанры, которые действительно меняют свои позиции в зависимости от дня недели и времени. \nВторая гипотеза подтвердилась, но лишь частично.",
      "metadata": {}
    },
    {
      "cell_type": "markdown",
      "source": "Москва и Питер — две разные столицы, два разных направления в музыке. Правда?\nГипотеза: Питер богат своей рэп-культурой, поэтому это направление там слушают чаще, а Москва — город контрастов, но основная масса пользователей слушает попсу.",
      "metadata": {}
    },
    {
      "cell_type": "markdown",
      "source": "Сгруппируем таблицу moscow_general по жанру, сосчитаем численность композиций каждого жанра методом count(), отсортируем в порядке убывания и сохраним результат в таблице moscow_genres.\n\nПросмотрим первые 10 строк этой новой таблицы.",
      "metadata": {}
    },
    {
      "cell_type": "code",
      "source": "moscow_genres = moscow_general.groupby('genre')['genre'].count().sort_values(ascending=False)",
      "metadata": {},
      "execution_count": null,
      "outputs": []
    },
    {
      "cell_type": "code",
      "source": "moscow_genres.head(10)",
      "metadata": {},
      "execution_count": null,
      "outputs": []
    },
    {
      "cell_type": "markdown",
      "source": "Сгруппируем таблицу spb_general по жанру, сосчитаем численность композиций каждого жанра методом count(), отсортируем в порядке убывания и сохраним результат в таблице spb_genres.\n\nПросматриваем первые 10 строк этой таблицы. Теперь можно сравнивать два города.",
      "metadata": {}
    },
    {
      "cell_type": "code",
      "source": "spb_genres = spb_general.groupby('genre')['genre'].count().sort_values(ascending=False)",
      "metadata": {},
      "execution_count": null,
      "outputs": []
    },
    {
      "cell_type": "code",
      "source": "spb_genres.head(10)",
      "metadata": {},
      "execution_count": null,
      "outputs": []
    },
    {
      "cell_type": "markdown",
      "source": "Выводы\n\nГипотеза частично подтвердилась:\n\nПоп-музыка — самый популярный жанр в Москве, как и предполагала гипотеза. Более того, в топ-10 жанров встречается близкий жанр — русская популярная музыка.\nВопреки ожиданиям, рэп одинаково популярен в Москве и Петербурге.",
      "metadata": {}
    },
    {
      "cell_type": "markdown",
      "source": "Этап 4. Результаты исследования",
      "metadata": {}
    },
    {
      "cell_type": "code",
      "source": "Рабочие гипотезы:\n   1. Музыку в двух городах — Москве и Санкт-Петербурге — слушают в разном режиме.\n\nПолностью подтверждена.\n   \n   2. Списки десяти самых популярных жанров утром в понедельник и вечером в пятницу имеют характерные отличия.\n\nВ Москве слушают музыку жанра “world”,\nВ Петербурге — джаз и классику.\nТаким образом, вторая гипотеза подтвердилась лишь отчасти. Этот результат мог оказаться иным, если бы не пропуски в данных.\n      \n   3. Население двух городов предпочитает разные музыкальные жанры.\n\nТретья гипотеза не подтвердилась. Если различия в предпочтениях и существуют, на основной массе пользователей они незаметны.",
      "metadata": {},
      "execution_count": null,
      "outputs": []
    }
  ]
}